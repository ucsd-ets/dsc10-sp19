{
 "cells": [
  {
   "cell_type": "markdown",
   "metadata": {},
   "source": [
    "# Homework 5: Group, Join, Conditionals, Iteration, Randomness. \n",
    "## Due Sunday May 12th, 11:59pm\n",
    "\n",
    "Directly sharing answers is not okay, but discussing problems with the course staff or with other students is encouraged. \n",
    "\n",
    "You should start early so that you have time to get help if you're stuck."
   ]
  },
  {
   "cell_type": "code",
   "execution_count": 1,
   "metadata": {},
   "outputs": [
    {
     "ename": "ModuleNotFoundError",
     "evalue": "No module named 'client'",
     "output_type": "error",
     "traceback": [
      "\u001b[1;31m---------------------------------------------------------------------------\u001b[0m",
      "\u001b[1;31mModuleNotFoundError\u001b[0m                       Traceback (most recent call last)",
      "\u001b[1;32m<ipython-input-1-32c1f0ed9fc6>\u001b[0m in \u001b[0;36m<module>\u001b[1;34m()\u001b[0m\n\u001b[0;32m      8\u001b[0m \u001b[0mplt\u001b[0m\u001b[1;33m.\u001b[0m\u001b[0mstyle\u001b[0m\u001b[1;33m.\u001b[0m\u001b[0muse\u001b[0m\u001b[1;33m(\u001b[0m\u001b[1;34m'fivethirtyeight'\u001b[0m\u001b[1;33m)\u001b[0m\u001b[1;33m\u001b[0m\u001b[0m\n\u001b[0;32m      9\u001b[0m \u001b[1;33m\u001b[0m\u001b[0m\n\u001b[1;32m---> 10\u001b[1;33m \u001b[1;32mfrom\u001b[0m \u001b[0mclient\u001b[0m\u001b[1;33m.\u001b[0m\u001b[0mapi\u001b[0m\u001b[1;33m.\u001b[0m\u001b[0mnotebook\u001b[0m \u001b[1;32mimport\u001b[0m \u001b[0mNotebook\u001b[0m\u001b[1;33m\u001b[0m\u001b[0m\n\u001b[0m\u001b[0;32m     11\u001b[0m \u001b[0mok\u001b[0m \u001b[1;33m=\u001b[0m \u001b[0mNotebook\u001b[0m\u001b[1;33m(\u001b[0m\u001b[1;34m'hw05.ok'\u001b[0m\u001b[1;33m)\u001b[0m\u001b[1;33m\u001b[0m\u001b[0m\n\u001b[0;32m     12\u001b[0m \u001b[0m_\u001b[0m \u001b[1;33m=\u001b[0m \u001b[0mok\u001b[0m\u001b[1;33m.\u001b[0m\u001b[0mauth\u001b[0m\u001b[1;33m(\u001b[0m\u001b[0minline\u001b[0m\u001b[1;33m=\u001b[0m\u001b[1;32mTrue\u001b[0m\u001b[1;33m)\u001b[0m\u001b[1;33m\u001b[0m\u001b[0m\n",
      "\u001b[1;31mModuleNotFoundError\u001b[0m: No module named 'client'"
     ]
    }
   ],
   "source": [
    "# Don't change this cell; just run it. \n",
    "\n",
    "import numpy as np\n",
    "from datascience import *\n",
    "\n",
    "%matplotlib inline\n",
    "import matplotlib.pyplot as plt\n",
    "plt.style.use('fivethirtyeight')\n",
    "\n",
    "from client.api.notebook import Notebook\n",
    "ok = Notebook('hw05.ok')\n",
    "_ = ok.auth(inline=True)"
   ]
  },
  {
   "cell_type": "markdown",
   "metadata": {},
   "source": [
    "**Important**: The `ok` tests don't usually tell you that your answer is correct. More often, they help catch careless mistakes. It's up to you to ensure that your answer is correct. If you're not sure, ask someone (not for the answer, but for some guidance about your approach)."
   ]
  },
  {
   "cell_type": "markdown",
   "metadata": {},
   "source": [
    "Once you're finished, you must do two things:\n",
    "\n",
    "### a. Turn into OK\n",
    "Select \"Save and Checkpoint\" in the File menu and then execute the `submit` cell below. The result will contain a link that you can use to check that your assignment has been submitted successfully. If you submit more than once before the deadline, we will only grade your final submission."
   ]
  },
  {
   "cell_type": "code",
   "execution_count": null,
   "metadata": {},
   "outputs": [],
   "source": [
    "_ = ok.submit()"
   ]
  },
  {
   "cell_type": "markdown",
   "metadata": {},
   "source": [
    "## 1. Owners and Pets"
   ]
  },
  {
   "cell_type": "markdown",
   "metadata": {},
   "source": [
    "![](corgi.png)"
   ]
  },
  {
   "cell_type": "markdown",
   "metadata": {},
   "source": [
    "With midterm season upon us, many of you may want to destress by looking at photos of cute pets. We will be manipulating datasets that are created through the join function.\n",
    "\n",
    "**Question 1.** The data is in a CSV file called `Pets.csv`. Read this file into a table `pets`."
   ]
  },
  {
   "cell_type": "code",
   "execution_count": null,
   "metadata": {},
   "outputs": [],
   "source": [
    "pets = ...\n",
    "pets"
   ]
  },
  {
   "cell_type": "code",
   "execution_count": null,
   "metadata": {},
   "outputs": [],
   "source": [
    "_ = ok.grade('q1_1')"
   ]
  },
  {
   "cell_type": "markdown",
   "metadata": {},
   "source": [
    "**Question 2.** At the moment, there is no way for us to pair the individual pet with its owner. Fortunately, `Pets.csv` provided us with **OwnerID** which allows us to find the owner's name. You are given a new table in `new_owners.csv` that contains the columns **Unnamed: 0**, **OwnerID**, **Name**, **Surname**, **State**, **StateFull**, and **ZipCode**. Join this table with `Pets.csv` and assign your new table to `owners_pets`."
   ]
  },
  {
   "cell_type": "code",
   "execution_count": null,
   "metadata": {},
   "outputs": [],
   "source": [
    "owners_pets = ...\n",
    "owners_pets"
   ]
  },
  {
   "cell_type": "code",
   "execution_count": null,
   "metadata": {},
   "outputs": [],
   "source": [
    "_ = ok.grade('q1_2')"
   ]
  },
  {
   "cell_type": "markdown",
   "metadata": {},
   "source": [
    "**Question 3**. You might notice that there two name columns: **Name** and **Name_2**. This is because both `Pets.csv` and `new_owners.csv` have a name column, and the table wants to be able to differentiate between the two columns. This is a common problem with joins, and it is important to differentiate between the two. There is also an irrelevant column `Unnamed: 0` that doesn't provide any information. Edit `owners_pets` by renaming `Name_2` to `OwnerName`, and by dropping `Unnamed: 0` from `owners_pets`."
   ]
  },
  {
   "cell_type": "code",
   "execution_count": null,
   "metadata": {},
   "outputs": [],
   "source": [
    "owners_pets = ...\n",
    "owners_pets"
   ]
  },
  {
   "cell_type": "code",
   "execution_count": null,
   "metadata": {},
   "outputs": [],
   "source": [
    "_ = ok.grade('q1_3')"
   ]
  },
  {
   "cell_type": "markdown",
   "metadata": {},
   "source": [
    "**Question 4.** If you paid close attention, you might notice that several pets have the same owner. This is why `new_owners.csv` and `Pets.csv` have a different number of rows. What proportion of all owners have more than one pet? Save your answer to `multiple_owners`. \n",
    "\n",
    "*Note*: Your answer should be between 0 and 1.\n",
    "\n"
   ]
  },
  {
   "cell_type": "code",
   "execution_count": null,
   "metadata": {},
   "outputs": [],
   "source": [
    "multiple_owners = ...\n",
    "multiple_owners"
   ]
  },
  {
   "cell_type": "code",
   "execution_count": null,
   "metadata": {},
   "outputs": [],
   "source": [
    "_ = ok.grade('q1_4')"
   ]
  },
  {
   "cell_type": "markdown",
   "metadata": {},
   "source": [
    "**Question 5.** You may have noticed that there are several owners who own three pets. Find the first name of the owners (`OwnerName`) who own three pets, and save them in an array called `three_pet_owners`.\n",
    "\n",
    "*Hint 1*: Looking at the different \"where\" [predicates](http://data8.org/datascience/predicates.html) may help you solve this question.\n",
    "\n",
    "*Hint 2*: You may wish to use np.unique."
   ]
  },
  {
   "cell_type": "code",
   "execution_count": null,
   "metadata": {},
   "outputs": [],
   "source": [
    "three_pet_owners = ...\n",
    "three_pet_owners"
   ]
  },
  {
   "cell_type": "code",
   "execution_count": null,
   "metadata": {},
   "outputs": [],
   "source": [
    "_ = ok.grade('q1_5')"
   ]
  },
  {
   "cell_type": "markdown",
   "metadata": {},
   "source": [
    "## 2. Choosing A Pet"
   ]
  },
  {
   "cell_type": "markdown",
   "metadata": {},
   "source": [
    "You really want to get a pet, but there are too many great animals to decide upon! Here are a number of factors that will go into your decision of what pet to get. \n",
    "\n",
    "1. Cuteness (1 = not cute at all, 10 = extremely cute)\n",
    "2. Activity Level (1 = barely active, 10 = extremely active)\n",
    "3. Cost (1 = Cheap, 10 = Expensive)\n",
    "\n",
    "**Question 1**. Define a function called `choose_pet` that takes five arguments: `table`, `cuteness_score`, `lower_activity_level`, `upper_activity_level`,and `cost_score`. You function should return a list of pets that meet the following requirements.\n",
    "\n",
    "1. If a pet's cuteness is greater than or equal to `cuteness_score`, return a list of those pets.\n",
    "2. If your `cuteness_score` is not met, return a list of pets that have activity levels between `lower_activity_level` and `upper_activity_level` (inclusive).\n",
    "3. If your cuteness and activity level requirements are not met, return a list of pets whose cost is less than or equal to `cost_score`.\n",
    "4. If none of your requirements are met, return \"There's no match.\""
   ]
  },
  {
   "cell_type": "code",
   "execution_count": null,
   "metadata": {},
   "outputs": [],
   "source": [
    "choosing_pets = Table.read_table(\"choosingpets.csv\")\n",
    "choosing_pets"
   ]
  },
  {
   "cell_type": "code",
   "execution_count": null,
   "metadata": {},
   "outputs": [],
   "source": [
    "# Define your function here\n",
    "\n",
    "choose_pet(choosing_pets,8,3,7,10) # should return ['Turtle','Tarantula']\n",
    "choose_pet(choosing_pets,9,4,6,3) # should return  ['Dog', 'Parrot', 'Rabbit', 'Tarantula', 'Fish']\n",
    "choose_pet(choosing_pets,9,1,2,4) # should return ['Guinea Pig', 'Hamster', 'Tarantula', 'Scorpian']\n",
    "choose_pet(choosing_pets,10,1,1,1) # should return \"There's no match.\""
   ]
  },
  {
   "cell_type": "code",
   "execution_count": null,
   "metadata": {},
   "outputs": [],
   "source": [
    "_ = ok.grade('q2_1')"
   ]
  },
  {
   "cell_type": "markdown",
   "metadata": {},
   "source": [
    "## 3. Identifiying the Owners of the Pets"
   ]
  },
  {
   "cell_type": "markdown",
   "metadata": {},
   "source": [
    "Unfortunately, an incident happened and the records of the owners and their pets were messed up. Knowing that you are a data scientist, the owners asked you to help restore the records. In this problem, you will reconstruct each record that indicates which pet belongs to which owner. Use a `for` loop to combine a list of owner names, a list of the **type** of the pets, and a list of the **names** of the pets into a new list called `restored_records`.\n",
    "\n",
    "When combining the three parts, you should: \n",
    "* Capitalize the first letter of the owner and the pet names.\n",
    "* Insert a colon and a space between the owner and type of pet, and insert a comma and a space between the type and the name of pet.\n",
    "\n",
    "For example, given the list `[\"jack\", \"rose\"]`,  `[\"rabbit\", “elephant”]`, and `[\"bunny\", \"rez\"]`, you should create the list `[\"Jack: rabbit, Bunny\", \"Rose: elephant, Rez\"]`.\n",
    "\n",
    "**Hint:** *Check out the string method [.title()](https://www.geeksforgeeks.org/title-in-python/)*"
   ]
  },
  {
   "cell_type": "code",
   "execution_count": null,
   "metadata": {},
   "outputs": [],
   "source": [
    "name_of_owners = [\"catherine\", \"Rogers\", \"nero\", \"rick\", \"margrette\", \"paul\", \"tina\", \"zelda\"]\n",
    "type_of_pets = [\"cat\", \"parrot\", \"giraffe\", \"squirrel\", \"hamster\", \"turtle\", \"rabbit\", \"pikachu\"]\n",
    "name_of_pets = [\"Furry\", \"rookie\", \"sekiro\", \"angelina\", \"scott\", \"heisier\", \"cutie\", \"pika\"]\n",
    "\n",
    "restored_records = []\n",
    "\n",
    "# Write your for loop here\n",
    "\n",
    "restored_records"
   ]
  },
  {
   "cell_type": "code",
   "execution_count": null,
   "metadata": {},
   "outputs": [],
   "source": [
    "_ = ok.grade('q3_1')"
   ]
  },
  {
   "cell_type": "markdown",
   "metadata": {},
   "source": [
    "## 4.  Go for lottery (Do not plan a career on it!)"
   ]
  },
  {
   "cell_type": "markdown",
   "metadata": {
    "collapsed": true
   },
   "source": [
    "You went to the nearest supermarket (or the gas station if you prefer) and bought a powerball ticket. To play, you select five **different** numbers from 1 to 69 for the white balls and select one number from 1 to 26 for the red Powerball. For the sake of simplicity, assume that you have to match the numbers **in the exact order** to win the jackpot. All questions in this part assumes the setting of a single draw unless stated otherwise."
   ]
  },
  {
   "cell_type": "markdown",
   "metadata": {},
   "source": [
    "**Question 1.** What is the probability that you win the jackpot? Assign your answer to `jackpot_chance`.\n",
    "\n",
    "**Hint**: *Since you are choosing five different numbers for the white balls, the denominators should be decreasing. The probability of getting the first number correct is 1/69, the second is 1/68, and so on...*"
   ]
  },
  {
   "cell_type": "code",
   "execution_count": null,
   "metadata": {},
   "outputs": [],
   "source": [
    "jackpot_chance = ...\n",
    "jackpot_chance"
   ]
  },
  {
   "cell_type": "code",
   "execution_count": null,
   "metadata": {},
   "outputs": [],
   "source": [
    "_ = ok.grade('q1_1')"
   ]
  },
  {
   "cell_type": "markdown",
   "metadata": {},
   "source": [
    "**Question 2.** Your chances of winning the jackpot is quite low, but you can still win money if you have at least one number correct. What is the probability that you get at least one number correct and win some money? Assign your answer to `non_losing_prob`. "
   ]
  },
  {
   "cell_type": "code",
   "execution_count": null,
   "metadata": {},
   "outputs": [],
   "source": [
    "non_losing_prob = ...\n",
    "non_losing_prob"
   ]
  },
  {
   "cell_type": "code",
   "execution_count": null,
   "metadata": {},
   "outputs": [],
   "source": [
    "_ = ok.grade('q4_2')"
   ]
  },
  {
   "cell_type": "markdown",
   "metadata": {},
   "source": [
    "**Question 3.** Write a function called `simulate_one_ticket`. It should take **no arguments**, and it should return **an array** with 6 random numbers. The first five numbers are all between 1 and 69 and different from each other. The last number should be between 1 and 26."
   ]
  },
  {
   "cell_type": "code",
   "execution_count": 2,
   "metadata": {},
   "outputs": [
    {
     "data": {
      "text/plain": [
       "array([61, 53, 19,  9, 56,  1])"
      ]
     },
     "execution_count": 2,
     "metadata": {},
     "output_type": "execute_result"
    }
   ],
   "source": [
    "# Place your answer here. It may contain several lines of code.\n",
    "\n",
    "simulate_one_ticket()"
   ]
  },
  {
   "cell_type": "code",
   "execution_count": null,
   "metadata": {},
   "outputs": [],
   "source": [
    "_ = ok.grade('q4_3')"
   ]
  },
  {
   "cell_type": "markdown",
   "metadata": {},
   "source": [
    "**Question 4.** It's draw day, and you checked the lucky numbers posted, which happened to be white(19, 50, 36, 53, 68), red(12). Suppose you didn't win the jackpot, and you are a bit depressed. You want to remind yourself how unlikely it is to win a jackpot. Call the function `simulate_one_ticket` 100000 times (at least $200000 if you were to buy that many!). How many times did you win the jackpot? Assign your answer to `count_jackpot`."
   ]
  },
  {
   "cell_type": "code",
   "execution_count": null,
   "metadata": {},
   "outputs": [],
   "source": [
    "count_jackpot = \n",
    "count_jackpot"
   ]
  },
  {
   "cell_type": "code",
   "execution_count": null,
   "metadata": {},
   "outputs": [],
   "source": [
    "_ = ok.grade('q4_4')"
   ]
  },
  {
   "cell_type": "markdown",
   "metadata": {},
   "source": [
    "## 5. Yahtzee "
   ]
  },
  {
   "cell_type": "markdown",
   "metadata": {},
   "source": [
    "In the dice game Yahtzee, players roll and reroll dice, trying to meet certain objectives. A player rolls five dice on the first roll, and after looking at the results, *can choose to* reroll any number of them on the second roll. Similarly, after looking at the results of the second roll, the player can choose to reroll any number of those for the third roll. After the third roll, no more rolling is allowed.\n",
    "\n",
    "One objective in Yahtzee is to roll as many 6's as possible. The standard strategy is as follows:\n",
    "* Roll all five dice.\n",
    "* Keep any that are 6's. Reroll all other dice.\n",
    "* Keep any that are 6's. Reroll all other dice.\n",
    "The number of 6's at the end of this process determined the player's score. "
   ]
  },
  {
   "cell_type": "markdown",
   "metadata": {},
   "source": [
    "**Question 1.** Create an array called `my_dice` that contains the results of a first Yahtzee roll (that is, five random numbers between 1 and 6)."
   ]
  },
  {
   "cell_type": "code",
   "execution_count": null,
   "metadata": {},
   "outputs": [],
   "source": [
    "my_dice = ...\n",
    "my_dice"
   ]
  },
  {
   "cell_type": "code",
   "execution_count": null,
   "metadata": {},
   "outputs": [],
   "source": [
    "_ = ok.grade('q5_1')"
   ]
  },
  {
   "cell_type": "markdown",
   "metadata": {},
   "source": [
    "**Question 2.** Define a function called `reroll()` that takes one Yahtzee roll, `roll` as its input and returns the updated roll as its ouput. The function should not change the contents of `roll`, but, rather, should output an updated copy of `roll` after one additional turn. Your function should implement the standard strategy for rolling 6's, that is, keep all dice that were a 6 and reroll all other dice.\n",
    "\n",
    "**Hint** *You can test out your function by repeatedly rerolling. Since you are keeping all the 6's you ever roll, eventually you should get all 6's by repeatedly rerolling.*"
   ]
  },
  {
   "cell_type": "code",
   "execution_count": null,
   "metadata": {},
   "outputs": [],
   "source": [
    "def reroll(roll):\n",
    "    ..."
   ]
  },
  {
   "cell_type": "markdown",
   "metadata": {},
   "source": [
    "Now, practice taking a complete turn at Yahtzee, and see how many 6's you can get! Re-run the code cell from question 5.1 to roll new dice. Then use your `reroll()` function twice, and calculate the number of 6's you have at the end of your turn. "
   ]
  },
  {
   "cell_type": "code",
   "execution_count": null,
   "metadata": {},
   "outputs": [],
   "source": [
    "# Practice taking a turn here. How many 6's did you get?\n",
    "second_roll = ...\n",
    "third_roll = ...\n",
    "third_roll"
   ]
  },
  {
   "cell_type": "markdown",
   "metadata": {},
   "source": [
    "**Question 3.** Now, use a `for` loop to help you take 100,000 turns at Yahtzee. On each turn, you should roll the dice, reroll them twice, and calculate the number of 6's you have at the end of your turn. Create an array called `sixes` that contains the number of 6's you had at the end of each turn. This array should have 100,000 entries.\n",
    "\n",
    "**Hint** Try taking 10 turns with a `for` loop. Once you are sure you have that figured out, change it to 100,000 turns. It will take a little while (about a minute) for Python to perform the calculations when you are doing 100,000 turns."
   ]
  },
  {
   "cell_type": "code",
   "execution_count": null,
   "metadata": {},
   "outputs": [],
   "source": [
    "sixes = ...\n",
    "\n",
    "# Write your for loop here"
   ]
  },
  {
   "cell_type": "code",
   "execution_count": null,
   "metadata": {},
   "outputs": [],
   "source": [
    "_ = ok.grade('q5_3')"
   ]
  },
  {
   "cell_type": "markdown",
   "metadata": {},
   "source": [
    "**Question 4.** Use the data you have collected to approximate the number of 6's would you expect to get in one turn using this strategy. Store your result in a variable called `expected_sixes.` \n",
    "\n",
    "Note that this does not need to be a whole number. For example, if you collected data by repeatedly flipping three coins, you would say that the expected number of heads you see is about 1.5.\n",
    "\n",
    "**Hint** *How many sixes, on average, are you left with?*"
   ]
  },
  {
   "cell_type": "code",
   "execution_count": null,
   "metadata": {},
   "outputs": [],
   "source": [
    "expected_sixes = ...\n",
    "expected_sixes"
   ]
  },
  {
   "cell_type": "code",
   "execution_count": null,
   "metadata": {},
   "outputs": [],
   "source": [
    "_ = ok.grade('q5_4')"
   ]
  },
  {
   "cell_type": "markdown",
   "metadata": {},
   "source": [
    "**Question 5.** Use the data you have collected to approximate the most commonly rolled number of 6's when taking a single turn using this strategy. Store your result in a variable called `most_common_sixes.`\n",
    "\n",
    "Note that this does need to be a whole number, because it is not very common at all to roll a non-integer number of sixes in a single turn of Yahtzee."
   ]
  },
  {
   "cell_type": "code",
   "execution_count": null,
   "metadata": {},
   "outputs": [],
   "source": [
    "most_common_sixes = ...\n",
    "most_common_sixes"
   ]
  },
  {
   "cell_type": "code",
   "execution_count": null,
   "metadata": {},
   "outputs": [],
   "source": [
    "_ = ok.grade('q5_5')"
   ]
  },
  {
   "cell_type": "markdown",
   "metadata": {},
   "source": [
    "\n",
    "To submit:\n",
    "\n",
    "1. Select `Run All` from the `Cell` menu to ensure that you have executed all cells, including the test cells.\n",
    "3. Read through the notebook to make sure everything is fine.\n",
    "4. Submit using the cell below.\n"
   ]
  },
  {
   "cell_type": "code",
   "execution_count": null,
   "metadata": {},
   "outputs": [],
   "source": [
    "# For your convenience, you can run this cell to run all the tests at once!\n",
    "import os\n",
    "_ = [ok.grade(q[:-3]) for q in os.listdir('tests') if q.startswith('q')]"
   ]
  },
  {
   "cell_type": "code",
   "execution_count": null,
   "metadata": {},
   "outputs": [],
   "source": [
    "_ = ok.submit()"
   ]
  },
  {
   "cell_type": "markdown",
   "metadata": {},
   "source": [
    "## Don't forget to submit to OK!"
   ]
  }
 ],
 "metadata": {
  "kernelspec": {
   "display_name": "Python 3",
   "language": "python",
   "name": "python3"
  },
  "language_info": {
   "codemirror_mode": {
    "name": "ipython",
    "version": 3
   },
   "file_extension": ".py",
   "mimetype": "text/x-python",
   "name": "python",
   "nbconvert_exporter": "python",
   "pygments_lexer": "ipython3",
   "version": "3.6.5"
  }
 },
 "nbformat": 4,
 "nbformat_minor": 2
}
