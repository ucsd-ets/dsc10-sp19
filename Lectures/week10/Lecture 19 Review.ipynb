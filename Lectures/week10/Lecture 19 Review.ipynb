{
 "cells": [
  {
   "cell_type": "code",
   "execution_count": 2,
   "metadata": {},
   "outputs": [
    {
     "data": {
      "text/plain": [
       "{'width': 1200, 'height': 700, 'scroll': True}"
      ]
     },
     "execution_count": 2,
     "metadata": {},
     "output_type": "execute_result"
    }
   ],
   "source": [
    "#: the usual imports\n",
    "from datascience import *\n",
    "import numpy as np\n",
    "\n",
    "%matplotlib inline\n",
    "import matplotlib.pyplot as plt\n",
    "import warnings; warnings.simplefilter('ignore')\n",
    "\n",
    "plt.style.use('fivethirtyeight')\n",
    "\n",
    "from notebook.services.config import ConfigManager\n",
    "\n",
    "cm = ConfigManager()\n",
    "cm.update(\n",
    "   \"livereveal\", {\n",
    "       'width': 1200,\n",
    "       'height': 700,\n",
    "       \"scroll\": True,\n",
    "})"
   ]
  },
  {
   "cell_type": "code",
   "execution_count": 87,
   "metadata": {
    "scrolled": false
   },
   "outputs": [
    {
     "data": {
      "text/plain": [
       "('business_id',\n",
       " 'business_name',\n",
       " 'business_address',\n",
       " 'business_city',\n",
       " 'business_state',\n",
       " 'business_postal_code',\n",
       " 'business_latitude',\n",
       " 'business_longitude',\n",
       " 'business_location',\n",
       " 'business_phone_number',\n",
       " 'inspection_id',\n",
       " 'inspection_date',\n",
       " 'inspection_score',\n",
       " 'inspection_type',\n",
       " 'violation_id',\n",
       " 'violation_description',\n",
       " 'risk_category',\n",
       " 'Neighborhoods',\n",
       " 'Police Districts',\n",
       " 'Supervisor Districts',\n",
       " 'Fire Prevention Districts',\n",
       " 'Zip Codes',\n",
       " 'Analysis Neighborhoods')"
      ]
     },
     "execution_count": 87,
     "metadata": {},
     "output_type": "execute_result"
    }
   ],
   "source": [
    "restaurants = Table.read_table('restaurants.csv')\n",
    "restaurants.labels"
   ]
  },
  {
   "cell_type": "code",
   "execution_count": 88,
   "metadata": {},
   "outputs": [
    {
     "data": {
      "text/html": [
       "<table border=\"1\" class=\"dataframe\">\n",
       "    <thead>\n",
       "        <tr>\n",
       "            <th>business_name</th> <th>inspection_date</th> <th>inspection_score</th> <th>risk_category</th> <th>Neighborhoods</th> <th>Zip Codes</th>\n",
       "        </tr>\n",
       "    </thead>\n",
       "    <tbody>\n",
       "        <tr>\n",
       "            <td>Golden Waffle             </td> <td>2018-08-08T00:00:00.000</td> <td>nan             </td> <td>nan          </td> <td>nan          </td> <td>nan      </td>\n",
       "        </tr>\n",
       "        <tr>\n",
       "            <td>Hakkasan San Francisco    </td> <td>2018-04-18T00:00:00.000</td> <td>88              </td> <td>Moderate Risk</td> <td>nan          </td> <td>nan      </td>\n",
       "        </tr>\n",
       "        <tr>\n",
       "            <td>Chopsticks Restaurant     </td> <td>2017-08-18T00:00:00.000</td> <td>nan             </td> <td>nan          </td> <td>nan          </td> <td>nan      </td>\n",
       "        </tr>\n",
       "        <tr>\n",
       "            <td>Tselogs                   </td> <td>2018-04-12T00:00:00.000</td> <td>94              </td> <td>Moderate Risk</td> <td>nan          </td> <td>nan      </td>\n",
       "        </tr>\n",
       "        <tr>\n",
       "            <td>Fig & Thistle Market      </td> <td>2018-11-08T00:00:00.000</td> <td>nan             </td> <td>nan          </td> <td>nan          </td> <td>nan      </td>\n",
       "        </tr>\n",
       "        <tr>\n",
       "            <td>Moscone South Main Kitchen</td> <td>2018-09-11T00:00:00.000</td> <td>nan             </td> <td>nan          </td> <td>nan          </td> <td>nan      </td>\n",
       "        </tr>\n",
       "        <tr>\n",
       "            <td>FISTFUL OF TACOS          </td> <td>2018-08-21T00:00:00.000</td> <td>nan             </td> <td>nan          </td> <td>nan          </td> <td>nan      </td>\n",
       "        </tr>\n",
       "        <tr>\n",
       "            <td>The Estate Kitchen, LLC   </td> <td>2018-04-16T00:00:00.000</td> <td>86              </td> <td>Low Risk     </td> <td>nan          </td> <td>nan      </td>\n",
       "        </tr>\n",
       "        <tr>\n",
       "            <td>Beloved Cafe              </td> <td>2018-05-02T00:00:00.000</td> <td>96              </td> <td>Low Risk     </td> <td>nan          </td> <td>nan      </td>\n",
       "        </tr>\n",
       "        <tr>\n",
       "            <td>Gashead Tavern            </td> <td>2018-08-14T00:00:00.000</td> <td>nan             </td> <td>nan          </td> <td>nan          </td> <td>nan      </td>\n",
       "        </tr>\n",
       "    </tbody>\n",
       "</table>\n",
       "<p>... (54467 rows omitted)</p>"
      ],
      "text/plain": [
       "business_name              | inspection_date         | inspection_score | risk_category | Neighborhoods | Zip Codes\n",
       "Golden Waffle              | 2018-08-08T00:00:00.000 | nan              | nan           | nan           | nan\n",
       "Hakkasan San Francisco     | 2018-04-18T00:00:00.000 | 88               | Moderate Risk | nan           | nan\n",
       "Chopsticks Restaurant      | 2017-08-18T00:00:00.000 | nan              | nan           | nan           | nan\n",
       "Tselogs                    | 2018-04-12T00:00:00.000 | 94               | Moderate Risk | nan           | nan\n",
       "Fig & Thistle Market       | 2018-11-08T00:00:00.000 | nan              | nan           | nan           | nan\n",
       "Moscone South Main Kitchen | 2018-09-11T00:00:00.000 | nan              | nan           | nan           | nan\n",
       "FISTFUL OF TACOS           | 2018-08-21T00:00:00.000 | nan              | nan           | nan           | nan\n",
       "The Estate Kitchen, LLC    | 2018-04-16T00:00:00.000 | 86               | Low Risk      | nan           | nan\n",
       "Beloved Cafe               | 2018-05-02T00:00:00.000 | 96               | Low Risk      | nan           | nan\n",
       "Gashead Tavern             | 2018-08-14T00:00:00.000 | nan              | nan           | nan           | nan\n",
       "... (54467 rows omitted)"
      ]
     },
     "execution_count": 88,
     "metadata": {},
     "output_type": "execute_result"
    }
   ],
   "source": [
    "restaurants = restaurants.select('business_name', 'inspection_date', 'inspection_score', 'risk_category', 'Neighborhoods', 'Zip Codes')\n",
    "restaurants "
   ]
  },
  {
   "cell_type": "code",
   "execution_count": 90,
   "metadata": {},
   "outputs": [
    {
     "data": {
      "image/png": "[encoded data removed]",
      "text/plain": [
       "<Figure size 432x288 with 1 Axes>"
      ]
     },
     "metadata": {},
     "output_type": "display_data"
    }
   ],
   "source": [
    "restaurants = restaurants.where('inspection_score', are.above(-1)).where('risk_category', are.not_equal_to('nan'))\n",
    "restaurants.hist('inspection_score', group='risk_category')"
   ]
  },
  {
   "cell_type": "markdown",
   "metadata": {},
   "source": [
    "We want to compare high risk restaurants to low risk restaurants and see if their inspection scores are different. What technique should we use?\n",
    "\n",
    "A. A/B testing  \n",
    "B. Standard hypothesis testing  \n",
    "C. Bootstrapping  \n",
    "D. Confidence intervals"
   ]
  },
  {
   "cell_type": "markdown",
   "metadata": {},
   "source": [
    "Can you state the null and alternative hypotheses?"
   ]
  },
  {
   "cell_type": "code",
   "execution_count": 47,
   "metadata": {
    "scrolled": true
   },
   "outputs": [
    {
     "data": {
      "text/html": [
       "<table border=\"1\" class=\"dataframe\">\n",
       "    <thead>\n",
       "        <tr>\n",
       "            <th>inspection_score</th> <th>risk_category</th>\n",
       "        </tr>\n",
       "    </thead>\n",
       "    <tbody>\n",
       "        <tr>\n",
       "            <td>86              </td> <td>Low Risk     </td>\n",
       "        </tr>\n",
       "        <tr>\n",
       "            <td>96              </td> <td>Low Risk     </td>\n",
       "        </tr>\n",
       "        <tr>\n",
       "            <td>79              </td> <td>High Risk    </td>\n",
       "        </tr>\n",
       "        <tr>\n",
       "            <td>72              </td> <td>Low Risk     </td>\n",
       "        </tr>\n",
       "        <tr>\n",
       "            <td>82              </td> <td>Low Risk     </td>\n",
       "        </tr>\n",
       "        <tr>\n",
       "            <td>92              </td> <td>Low Risk     </td>\n",
       "        </tr>\n",
       "        <tr>\n",
       "            <td>72              </td> <td>High Risk    </td>\n",
       "        </tr>\n",
       "        <tr>\n",
       "            <td>84              </td> <td>High Risk    </td>\n",
       "        </tr>\n",
       "        <tr>\n",
       "            <td>90              </td> <td>Low Risk     </td>\n",
       "        </tr>\n",
       "        <tr>\n",
       "            <td>92              </td> <td>Low Risk     </td>\n",
       "        </tr>\n",
       "    </tbody>\n",
       "</table>\n",
       "<p>... (23674 rows omitted)</p>"
      ],
      "text/plain": [
       "inspection_score | risk_category\n",
       "86               | Low Risk\n",
       "96               | Low Risk\n",
       "79               | High Risk\n",
       "72               | Low Risk\n",
       "82               | Low Risk\n",
       "92               | Low Risk\n",
       "72               | High Risk\n",
       "84               | High Risk\n",
       "90               | Low Risk\n",
       "92               | Low Risk\n",
       "... (23674 rows omitted)"
      ]
     },
     "execution_count": 47,
     "metadata": {},
     "output_type": "execute_result"
    }
   ],
   "source": [
    "high_low = restaurants.where('risk_category', are.contained_in(['High Risk', 'Low Risk']))\n",
    "high_low = high_low.select('inspection_score', 'risk_category')\n",
    "high_low"
   ]
  },
  {
   "cell_type": "code",
   "execution_count": 48,
   "metadata": {},
   "outputs": [
    {
     "data": {
      "text/html": [
       "<table border=\"1\" class=\"dataframe\">\n",
       "    <thead>\n",
       "        <tr>\n",
       "            <th>inspection_score</th> <th>risk_category</th>\n",
       "        </tr>\n",
       "    </thead>\n",
       "    <tbody>\n",
       "        <tr>\n",
       "            <td>81              </td> <td>Low Risk     </td>\n",
       "        </tr>\n",
       "        <tr>\n",
       "            <td>86              </td> <td>Low Risk     </td>\n",
       "        </tr>\n",
       "        <tr>\n",
       "            <td>88              </td> <td>Low Risk     </td>\n",
       "        </tr>\n",
       "        <tr>\n",
       "            <td>90              </td> <td>Low Risk     </td>\n",
       "        </tr>\n",
       "        <tr>\n",
       "            <td>75              </td> <td>Low Risk     </td>\n",
       "        </tr>\n",
       "        <tr>\n",
       "            <td>79              </td> <td>High Risk    </td>\n",
       "        </tr>\n",
       "        <tr>\n",
       "            <td>78              </td> <td>Low Risk     </td>\n",
       "        </tr>\n",
       "        <tr>\n",
       "            <td>78              </td> <td>High Risk    </td>\n",
       "        </tr>\n",
       "        <tr>\n",
       "            <td>90              </td> <td>Low Risk     </td>\n",
       "        </tr>\n",
       "        <tr>\n",
       "            <td>90              </td> <td>Low Risk     </td>\n",
       "        </tr>\n",
       "    </tbody>\n",
       "</table>\n",
       "<p>... (23674 rows omitted)</p>"
      ],
      "text/plain": [
       "inspection_score | risk_category\n",
       "81               | Low Risk\n",
       "86               | Low Risk\n",
       "88               | Low Risk\n",
       "90               | Low Risk\n",
       "75               | Low Risk\n",
       "79               | High Risk\n",
       "78               | Low Risk\n",
       "78               | High Risk\n",
       "90               | Low Risk\n",
       "90               | Low Risk\n",
       "... (23674 rows omitted)"
      ]
     },
     "execution_count": 48,
     "metadata": {},
     "output_type": "execute_result"
    }
   ],
   "source": [
    "high_low.sample(with_replacement = False)"
   ]
  },
  {
   "cell_type": "code",
   "execution_count": 49,
   "metadata": {},
   "outputs": [
    {
     "data": {
      "text/html": [
       "<table border=\"1\" class=\"dataframe\">\n",
       "    <thead>\n",
       "        <tr>\n",
       "            <th>inspection_score</th> <th>risk_category</th> <th>Shuffled Label</th>\n",
       "        </tr>\n",
       "    </thead>\n",
       "    <tbody>\n",
       "        <tr>\n",
       "            <td>86              </td> <td>Low Risk     </td> <td>Low Risk      </td>\n",
       "        </tr>\n",
       "        <tr>\n",
       "            <td>96              </td> <td>Low Risk     </td> <td>High Risk     </td>\n",
       "        </tr>\n",
       "        <tr>\n",
       "            <td>79              </td> <td>High Risk    </td> <td>Low Risk      </td>\n",
       "        </tr>\n",
       "        <tr>\n",
       "            <td>72              </td> <td>Low Risk     </td> <td>Low Risk      </td>\n",
       "        </tr>\n",
       "        <tr>\n",
       "            <td>82              </td> <td>Low Risk     </td> <td>High Risk     </td>\n",
       "        </tr>\n",
       "        <tr>\n",
       "            <td>92              </td> <td>Low Risk     </td> <td>Low Risk      </td>\n",
       "        </tr>\n",
       "        <tr>\n",
       "            <td>72              </td> <td>High Risk    </td> <td>Low Risk      </td>\n",
       "        </tr>\n",
       "        <tr>\n",
       "            <td>84              </td> <td>High Risk    </td> <td>Low Risk      </td>\n",
       "        </tr>\n",
       "        <tr>\n",
       "            <td>90              </td> <td>Low Risk     </td> <td>High Risk     </td>\n",
       "        </tr>\n",
       "        <tr>\n",
       "            <td>92              </td> <td>Low Risk     </td> <td>Low Risk      </td>\n",
       "        </tr>\n",
       "    </tbody>\n",
       "</table>\n",
       "<p>... (23674 rows omitted)</p>"
      ],
      "text/plain": [
       "inspection_score | risk_category | Shuffled Label\n",
       "86               | Low Risk      | Low Risk\n",
       "96               | Low Risk      | High Risk\n",
       "79               | High Risk     | Low Risk\n",
       "72               | Low Risk      | Low Risk\n",
       "82               | Low Risk      | High Risk\n",
       "92               | Low Risk      | Low Risk\n",
       "72               | High Risk     | Low Risk\n",
       "84               | High Risk     | Low Risk\n",
       "90               | Low Risk      | High Risk\n",
       "92               | Low Risk      | Low Risk\n",
       "... (23674 rows omitted)"
      ]
     },
     "execution_count": 49,
     "metadata": {},
     "output_type": "execute_result"
    }
   ],
   "source": [
    "shuffled_labels = high_low.sample(with_replacement = False).column(1)\n",
    "original_and_shuffled = high_low.with_column('Shuffled Label', shuffled_labels)\n",
    "original_and_shuffled"
   ]
  },
  {
   "cell_type": "code",
   "execution_count": 50,
   "metadata": {},
   "outputs": [
    {
     "data": {
      "image/png": "[encoded data removed]",
      "text/plain": [
       "<Figure size 432x288 with 1 Axes>"
      ]
     },
     "metadata": {},
     "output_type": "display_data"
    }
   ],
   "source": [
    "original_and_shuffled.hist('inspection_score', group='risk_category')"
   ]
  },
  {
   "cell_type": "code",
   "execution_count": 51,
   "metadata": {
    "scrolled": true
   },
   "outputs": [
    {
     "data": {
      "image/png": "[encoded data removed]",
      "text/plain": [
       "<Figure size 432x288 with 1 Axes>"
      ]
     },
     "metadata": {},
     "output_type": "display_data"
    }
   ],
   "source": [
    "original_and_shuffled.hist('inspection_score', group='Shuffled Label')"
   ]
  },
  {
   "cell_type": "markdown",
   "metadata": {},
   "source": [
    "It looks like the two groups in the first histogram (A and B) are susbstantially more different than the two groups in the second histogram (C and D). What test statistic(s) can we use to quantify the difference between the two groups displayed in a given histogram?\n",
    "\n",
    "A. total variation distance  \n",
    "B. difference in the means  \n",
    "C. either of the above"
   ]
  },
  {
   "cell_type": "code",
   "execution_count": 52,
   "metadata": {},
   "outputs": [
    {
     "data": {
      "text/html": [
       "<table border=\"1\" class=\"dataframe\">\n",
       "    <thead>\n",
       "        <tr>\n",
       "            <th>risk_category</th> <th>inspection_score mean</th> <th>Shuffled Label mean</th>\n",
       "        </tr>\n",
       "    </thead>\n",
       "    <tbody>\n",
       "        <tr>\n",
       "            <td>High Risk    </td> <td>80.3611              </td> <td>                   </td>\n",
       "        </tr>\n",
       "        <tr>\n",
       "            <td>Low Risk     </td> <td>86.9259              </td> <td>                   </td>\n",
       "        </tr>\n",
       "    </tbody>\n",
       "</table>"
      ],
      "text/plain": [
       "risk_category | inspection_score mean | Shuffled Label mean\n",
       "High Risk     | 80.3611               |\n",
       "Low Risk      | 86.9259               |"
      ]
     },
     "execution_count": 52,
     "metadata": {},
     "output_type": "execute_result"
    }
   ],
   "source": [
    "original_and_shuffled.group('risk_category', np.mean)"
   ]
  },
  {
   "cell_type": "code",
   "execution_count": 53,
   "metadata": {},
   "outputs": [
    {
     "data": {
      "text/html": [
       "<table border=\"1\" class=\"dataframe\">\n",
       "    <thead>\n",
       "        <tr>\n",
       "            <th>Shuffled Label</th> <th>inspection_score mean</th> <th>risk_category mean</th>\n",
       "        </tr>\n",
       "    </thead>\n",
       "    <tbody>\n",
       "        <tr>\n",
       "            <td>High Risk     </td> <td>85.4777              </td> <td>                  </td>\n",
       "        </tr>\n",
       "        <tr>\n",
       "            <td>Low Risk      </td> <td>85.4256              </td> <td>                  </td>\n",
       "        </tr>\n",
       "    </tbody>\n",
       "</table>"
      ],
      "text/plain": [
       "Shuffled Label | inspection_score mean | risk_category mean\n",
       "High Risk      | 85.4777               |\n",
       "Low Risk       | 85.4256               |"
      ]
     },
     "execution_count": 53,
     "metadata": {},
     "output_type": "execute_result"
    }
   ],
   "source": [
    "original_and_shuffled.group('Shuffled Label', np.mean)"
   ]
  },
  {
   "cell_type": "code",
   "execution_count": 54,
   "metadata": {
    "scrolled": true
   },
   "outputs": [
    {
     "data": {
      "text/plain": [
       "6.564823605756715"
      ]
     },
     "execution_count": 54,
     "metadata": {},
     "output_type": "execute_result"
    }
   ],
   "source": [
    "observed_means = original_and_shuffled.group('risk_category', np.mean).column('inspection_score mean')\n",
    "observed_difference = observed_means.item(1) - observed_means.item(0)\n",
    "observed_difference"
   ]
  },
  {
   "cell_type": "code",
   "execution_count": 55,
   "metadata": {},
   "outputs": [
    {
     "data": {
      "text/plain": [
       "-0.05202296621995117"
      ]
     },
     "execution_count": 55,
     "metadata": {},
     "output_type": "execute_result"
    }
   ],
   "source": [
    "simulated_means = original_and_shuffled.group('Shuffled Label', np.mean).column('inspection_score mean')\n",
    "simulated_difference = simulated_means.item(1) - simulated_means.item(0)\n",
    "simulated_difference"
   ]
  },
  {
   "cell_type": "code",
   "execution_count": 56,
   "metadata": {},
   "outputs": [],
   "source": [
    "def calculate_test_statistic():\n",
    "    shuffled_labels = high_low.sample(with_replacement = False).column(1)\n",
    "    original_and_shuffled = high_low.with_column('Shuffled Label', shuffled_labels)\n",
    "    simulated_means = original_and_shuffled.group('Shuffled Label', np.mean).column('inspection_score mean')\n",
    "    simulated_difference = simulated_means.item(1) - simulated_means.item(0)\n",
    "    return simulated_difference"
   ]
  },
  {
   "cell_type": "code",
   "execution_count": 57,
   "metadata": {},
   "outputs": [
    {
     "data": {
      "text/plain": [
       "0.0021621582048254595"
      ]
     },
     "execution_count": 57,
     "metadata": {},
     "output_type": "execute_result"
    }
   ],
   "source": [
    "calculate_test_statistic()"
   ]
  },
  {
   "cell_type": "code",
   "execution_count": 58,
   "metadata": {},
   "outputs": [],
   "source": [
    "simulated_stats = make_array()\n",
    "\n",
    "for i in np.arange(100):\n",
    "    sim_stat = calculate_test_statistic()\n",
    "    simulated_stats = np.append(simulated_stats, sim_stat)"
   ]
  },
  {
   "cell_type": "code",
   "execution_count": 62,
   "metadata": {},
   "outputs": [
    {
     "data": {
      "text/plain": [
       "45"
      ]
     },
     "execution_count": 62,
     "metadata": {},
     "output_type": "execute_result"
    }
   ],
   "source": [
    "np.count_nonzero(simulated_stats>0)"
   ]
  },
  {
   "cell_type": "code",
   "execution_count": 63,
   "metadata": {},
   "outputs": [
    {
     "data": {
      "image/png": "[encoded data removed]",
      "text/plain": [
       "<Figure size 432x288 with 1 Axes>"
      ]
     },
     "metadata": {},
     "output_type": "display_data"
    }
   ],
   "source": [
    "Table().with_column('Simulated Differences', simulated_stats).hist()"
   ]
  },
  {
   "cell_type": "code",
   "execution_count": 64,
   "metadata": {},
   "outputs": [
    {
     "data": {
      "text/plain": [
       "6.564823605756715"
      ]
     },
     "execution_count": 64,
     "metadata": {},
     "output_type": "execute_result"
    }
   ],
   "source": [
    "observed_difference"
   ]
  },
  {
   "cell_type": "markdown",
   "metadata": {},
   "source": [
    "What's the p-value?"
   ]
  },
  {
   "cell_type": "code",
   "execution_count": 65,
   "metadata": {},
   "outputs": [
    {
     "data": {
      "text/plain": [
       "0.0"
      ]
     },
     "execution_count": 65,
     "metadata": {},
     "output_type": "execute_result"
    }
   ],
   "source": [
    "np.count_nonzero(simulated_difference>=observed_difference)/100"
   ]
  },
  {
   "cell_type": "code",
   "execution_count": 91,
   "metadata": {},
   "outputs": [
    {
     "data": {
      "text/html": [
       "<table border=\"1\" class=\"dataframe\">\n",
       "    <thead>\n",
       "        <tr>\n",
       "            <th>business_name</th> <th>inspection_date</th> <th>inspection_score</th> <th>risk_category</th> <th>Neighborhoods</th> <th>Zip Codes</th>\n",
       "        </tr>\n",
       "    </thead>\n",
       "    <tbody>\n",
       "        <tr>\n",
       "            <td>Le Marais Bakery Castro         </td> <td>2018-08-06T00:00:00.000</td> <td>90              </td> <td>Moderate Risk</td> <td>nan          </td> <td>nan      </td>\n",
       "        </tr>\n",
       "        <tr>\n",
       "            <td>Pho Luen Fat Bakery & Restaurant</td> <td>2019-04-08T00:00:00.000</td> <td>76              </td> <td>Low Risk     </td> <td>nan          </td> <td>nan      </td>\n",
       "        </tr>\n",
       "        <tr>\n",
       "            <td>Brioche Bakery & Cafe           </td> <td>2019-01-31T00:00:00.000</td> <td>88              </td> <td>Low Risk     </td> <td>nan          </td> <td>nan      </td>\n",
       "        </tr>\n",
       "        <tr>\n",
       "            <td>Wing Lee Bakery                 </td> <td>2019-01-28T00:00:00.000</td> <td>86              </td> <td>Moderate Risk</td> <td>nan          </td> <td>nan      </td>\n",
       "        </tr>\n",
       "        <tr>\n",
       "            <td>Pho Luen Fat Bakery & Restaurant</td> <td>2019-04-08T00:00:00.000</td> <td>76              </td> <td>Moderate Risk</td> <td>nan          </td> <td>nan      </td>\n",
       "        </tr>\n",
       "        <tr>\n",
       "            <td>L'acajou Bakery and Cafe        </td> <td>2019-01-04T00:00:00.000</td> <td>79              </td> <td>Low Risk     </td> <td>nan          </td> <td>nan      </td>\n",
       "        </tr>\n",
       "        <tr>\n",
       "            <td>Le Marais Bakery Castro         </td> <td>2018-08-06T00:00:00.000</td> <td>90              </td> <td>Low Risk     </td> <td>nan          </td> <td>nan      </td>\n",
       "        </tr>\n",
       "        <tr>\n",
       "            <td>Le Marais Bakery, LLC           </td> <td>2018-12-28T00:00:00.000</td> <td>88              </td> <td>Moderate Risk</td> <td>nan          </td> <td>nan      </td>\n",
       "        </tr>\n",
       "        <tr>\n",
       "            <td>Brioche Bakery & Cafe           </td> <td>2019-01-31T00:00:00.000</td> <td>88              </td> <td>Moderate Risk</td> <td>nan          </td> <td>nan      </td>\n",
       "        </tr>\n",
       "        <tr>\n",
       "            <td>Le Marais Bakery, LLC           </td> <td>2018-12-28T00:00:00.000</td> <td>88              </td> <td>Moderate Risk</td> <td>nan          </td> <td>nan      </td>\n",
       "        </tr>\n",
       "    </tbody>\n",
       "</table>\n",
       "<p>... (878 rows omitted)</p>"
      ],
      "text/plain": [
       "business_name                    | inspection_date         | inspection_score | risk_category | Neighborhoods | Zip Codes\n",
       "Le Marais Bakery Castro          | 2018-08-06T00:00:00.000 | 90               | Moderate Risk | nan           | nan\n",
       "Pho Luen Fat Bakery & Restaurant | 2019-04-08T00:00:00.000 | 76               | Low Risk      | nan           | nan\n",
       "Brioche Bakery & Cafe            | 2019-01-31T00:00:00.000 | 88               | Low Risk      | nan           | nan\n",
       "Wing Lee Bakery                  | 2019-01-28T00:00:00.000 | 86               | Moderate Risk | nan           | nan\n",
       "Pho Luen Fat Bakery & Restaurant | 2019-04-08T00:00:00.000 | 76               | Moderate Risk | nan           | nan\n",
       "L'acajou Bakery and Cafe         | 2019-01-04T00:00:00.000 | 79               | Low Risk      | nan           | nan\n",
       "Le Marais Bakery Castro          | 2018-08-06T00:00:00.000 | 90               | Low Risk      | nan           | nan\n",
       "Le Marais Bakery, LLC            | 2018-12-28T00:00:00.000 | 88               | Moderate Risk | nan           | nan\n",
       "Brioche Bakery & Cafe            | 2019-01-31T00:00:00.000 | 88               | Moderate Risk | nan           | nan\n",
       "Le Marais Bakery, LLC            | 2018-12-28T00:00:00.000 | 88               | Moderate Risk | nan           | nan\n",
       "... (878 rows omitted)"
      ]
     },
     "execution_count": 91,
     "metadata": {},
     "output_type": "execute_result"
    }
   ],
   "source": [
    "bakeries = restaurants.where('business_name', are.containing('Bake'))\n",
    "bakeries"
   ]
  },
  {
   "cell_type": "markdown",
   "metadata": {},
   "source": [
    "You work as a family physician and you want to test the following hypotheses:\n",
    "\n",
    "Null Hypothesis: Family physicians see an equal number of children and adults.\n",
    "\n",
    "Alternative Hypothesis: Family physicians an unequal number of children and adults.\n",
    "\n",
    "You collect data and you find that in 6354 patients, 3115 were children and 3239 were adults."
   ]
  },
  {
   "cell_type": "markdown",
   "metadata": {},
   "source": [
    "Which test statistic(s) could be used for this hypothesis test?\n",
    "\n",
    "A. proportion of children seen   \n",
    "B. number of children seen  \n",
    "C. number of children minus number of adults seen  \n",
    "D. absolute value of number of children minus number of adults seen  "
   ]
  },
  {
   "cell_type": "code",
   "execution_count": 139,
   "metadata": {},
   "outputs": [
    {
     "data": {
      "text/plain": [
       "3174.0"
      ]
     },
     "execution_count": 139,
     "metadata": {},
     "output_type": "execute_result"
    }
   ],
   "source": [
    "sample_proportions(6354, make_array(0.5, 0.5)).item(0)*6354"
   ]
  },
  {
   "cell_type": "code",
   "execution_count": 140,
   "metadata": {},
   "outputs": [],
   "source": [
    "test_stats = make_array()\n",
    "\n",
    "for i in np.arange(10000):\n",
    "    stat = sample_proportions(6354, make_array(0.5, 0.5)).item(0)*6354\n",
    "    test_stats = np.append(test_stats, stat)"
   ]
  },
  {
   "cell_type": "code",
   "execution_count": 141,
   "metadata": {},
   "outputs": [
    {
     "data": {
      "image/png": "[encoded data removed]",
      "text/plain": [
       "<Figure size 432x288 with 1 Axes>"
      ]
     },
     "metadata": {},
     "output_type": "display_data"
    }
   ],
   "source": [
    "Table().with_column('Number of Children', test_stats).hist()"
   ]
  },
  {
   "cell_type": "markdown",
   "metadata": {},
   "source": [
    "Histograms"
   ]
  },
  {
   "cell_type": "code",
   "execution_count": 98,
   "metadata": {},
   "outputs": [
    {
     "data": {
      "text/html": [
       "<table border=\"1\" class=\"dataframe\">\n",
       "    <thead>\n",
       "        <tr>\n",
       "            <th>bin</th> <th>inspection_score count</th>\n",
       "        </tr>\n",
       "    </thead>\n",
       "    <tbody>\n",
       "        <tr>\n",
       "            <td>0   </td> <td>0                     </td>\n",
       "        </tr>\n",
       "        <tr>\n",
       "            <td>50  </td> <td>0                     </td>\n",
       "        </tr>\n",
       "        <tr>\n",
       "            <td>60  </td> <td>256                   </td>\n",
       "        </tr>\n",
       "        <tr>\n",
       "            <td>80  </td> <td>383                   </td>\n",
       "        </tr>\n",
       "        <tr>\n",
       "            <td>90  </td> <td>204                   </td>\n",
       "        </tr>\n",
       "        <tr>\n",
       "            <td>95  </td> <td>45                    </td>\n",
       "        </tr>\n",
       "        <tr>\n",
       "            <td>100 </td> <td>0                     </td>\n",
       "        </tr>\n",
       "    </tbody>\n",
       "</table>"
      ],
      "text/plain": [
       "bin  | inspection_score count\n",
       "0    | 0\n",
       "50   | 0\n",
       "60   | 256\n",
       "80   | 383\n",
       "90   | 204\n",
       "95   | 45\n",
       "100  | 0"
      ]
     },
     "execution_count": 98,
     "metadata": {},
     "output_type": "execute_result"
    }
   ],
   "source": [
    "binned = bakeries.bin('inspection_score', bins=make_array(0, 50, 60, 80, 90, 95, 100))\n",
    "binned                                              "
   ]
  },
  {
   "cell_type": "markdown",
   "metadata": {},
   "source": [
    "Can you draw the histogram based on this?"
   ]
  },
  {
   "cell_type": "code",
   "execution_count": 100,
   "metadata": {},
   "outputs": [
    {
     "data": {
      "text/html": [
       "<table border=\"1\" class=\"dataframe\">\n",
       "    <thead>\n",
       "        <tr>\n",
       "            <th>bin</th> <th>inspection_score count</th> <th>percent</th>\n",
       "        </tr>\n",
       "    </thead>\n",
       "    <tbody>\n",
       "        <tr>\n",
       "            <td>0   </td> <td>0                     </td> <td>0      </td>\n",
       "        </tr>\n",
       "        <tr>\n",
       "            <td>50  </td> <td>0                     </td> <td>0      </td>\n",
       "        </tr>\n",
       "        <tr>\n",
       "            <td>60  </td> <td>256                   </td> <td>28.8288</td>\n",
       "        </tr>\n",
       "        <tr>\n",
       "            <td>80  </td> <td>383                   </td> <td>43.1306</td>\n",
       "        </tr>\n",
       "        <tr>\n",
       "            <td>90  </td> <td>204                   </td> <td>22.973 </td>\n",
       "        </tr>\n",
       "        <tr>\n",
       "            <td>95  </td> <td>45                    </td> <td>5.06757</td>\n",
       "        </tr>\n",
       "        <tr>\n",
       "            <td>100 </td> <td>0                     </td> <td>0      </td>\n",
       "        </tr>\n",
       "    </tbody>\n",
       "</table>"
      ],
      "text/plain": [
       "bin  | inspection_score count | percent\n",
       "0    | 0                      | 0\n",
       "50   | 0                      | 0\n",
       "60   | 256                    | 28.8288\n",
       "80   | 383                    | 43.1306\n",
       "90   | 204                    | 22.973\n",
       "95   | 45                     | 5.06757\n",
       "100  | 0                      | 0"
      ]
     },
     "execution_count": 100,
     "metadata": {},
     "output_type": "execute_result"
    }
   ],
   "source": [
    "binned = binned.with_column('percent', binned.column(1)/binned.column(1).sum()*100)\n",
    "binned"
   ]
  },
  {
   "cell_type": "code",
   "execution_count": 101,
   "metadata": {},
   "outputs": [
    {
     "data": {
      "image/png": "[encoded data removed]",
      "text/plain": [
       "<Figure size 432x288 with 1 Axes>"
      ]
     },
     "metadata": {},
     "output_type": "display_data"
    }
   ],
   "source": [
    "bakeries.hist('inspection_score', bins=make_array(0, 50, 60, 80, 90, 95, 100))"
   ]
  },
  {
   "cell_type": "markdown",
   "metadata": {},
   "source": [
    "Galton's Method"
   ]
  },
  {
   "cell_type": "code",
   "execution_count": 107,
   "metadata": {},
   "outputs": [
    {
     "data": {
      "text/html": [
       "<table border=\"1\" class=\"dataframe\">\n",
       "    <thead>\n",
       "        <tr>\n",
       "            <th>vehicle</th> <th>year</th> <th>msrp</th> <th>acceleration</th> <th>mpg</th> <th>class</th>\n",
       "        </tr>\n",
       "    </thead>\n",
       "    <tbody>\n",
       "        <tr>\n",
       "            <td>Prius (1st Gen)</td> <td>1997</td> <td>24509.7</td> <td>7.46        </td> <td>41.26</td> <td>Compact   </td>\n",
       "        </tr>\n",
       "        <tr>\n",
       "            <td>Tino           </td> <td>2000</td> <td>35355  </td> <td>8.2         </td> <td>54.1 </td> <td>Compact   </td>\n",
       "        </tr>\n",
       "        <tr>\n",
       "            <td>Prius (2nd Gen)</td> <td>2000</td> <td>26832.2</td> <td>7.97        </td> <td>45.23</td> <td>Compact   </td>\n",
       "        </tr>\n",
       "        <tr>\n",
       "            <td>Insight        </td> <td>2000</td> <td>18936.4</td> <td>9.52        </td> <td>53   </td> <td>Two Seater</td>\n",
       "        </tr>\n",
       "        <tr>\n",
       "            <td>Civic (1st Gen)</td> <td>2001</td> <td>25833.4</td> <td>7.04        </td> <td>47.04</td> <td>Compact   </td>\n",
       "        </tr>\n",
       "        <tr>\n",
       "            <td>Insight        </td> <td>2001</td> <td>19036.7</td> <td>9.52        </td> <td>53   </td> <td>Two Seater</td>\n",
       "        </tr>\n",
       "        <tr>\n",
       "            <td>Insight        </td> <td>2002</td> <td>19137  </td> <td>9.71        </td> <td>53   </td> <td>Two Seater</td>\n",
       "        </tr>\n",
       "        <tr>\n",
       "            <td>Alphard        </td> <td>2003</td> <td>38084.8</td> <td>8.33        </td> <td>40.46</td> <td>Minivan   </td>\n",
       "        </tr>\n",
       "        <tr>\n",
       "            <td>Insight        </td> <td>2003</td> <td>19137  </td> <td>9.52        </td> <td>53   </td> <td>Two Seater</td>\n",
       "        </tr>\n",
       "        <tr>\n",
       "            <td>Civic          </td> <td>2003</td> <td>14071.9</td> <td>8.62        </td> <td>41   </td> <td>Compact   </td>\n",
       "        </tr>\n",
       "    </tbody>\n",
       "</table>\n",
       "<p>... (143 rows omitted)</p>"
      ],
      "text/plain": [
       "vehicle         | year | msrp    | acceleration | mpg   | class\n",
       "Prius (1st Gen) | 1997 | 24509.7 | 7.46         | 41.26 | Compact\n",
       "Tino            | 2000 | 35355   | 8.2          | 54.1  | Compact\n",
       "Prius (2nd Gen) | 2000 | 26832.2 | 7.97         | 45.23 | Compact\n",
       "Insight         | 2000 | 18936.4 | 9.52         | 53    | Two Seater\n",
       "Civic (1st Gen) | 2001 | 25833.4 | 7.04         | 47.04 | Compact\n",
       "Insight         | 2001 | 19036.7 | 9.52         | 53    | Two Seater\n",
       "Insight         | 2002 | 19137   | 9.71         | 53    | Two Seater\n",
       "Alphard         | 2003 | 38084.8 | 8.33         | 40.46 | Minivan\n",
       "Insight         | 2003 | 19137   | 9.52         | 53    | Two Seater\n",
       "Civic           | 2003 | 14071.9 | 8.62         | 41    | Compact\n",
       "... (143 rows omitted)"
      ]
     },
     "execution_count": 107,
     "metadata": {},
     "output_type": "execute_result"
    }
   ],
   "source": [
    "hybrid = Table.read_table('hybrid.csv')\n",
    "hybrid"
   ]
  },
  {
   "cell_type": "code",
   "execution_count": 110,
   "metadata": {
    "scrolled": false
   },
   "outputs": [
    {
     "data": {
      "image/png": "[encoded data removed]",
      "text/plain": [
       "<Figure size 360x360 with 1 Axes>"
      ]
     },
     "metadata": {},
     "output_type": "display_data"
    }
   ],
   "source": [
    "hybrid.scatter('acceleration', 'msrp')"
   ]
  },
  {
   "cell_type": "markdown",
   "metadata": {},
   "source": [
    "What would Galton's method predict for the MSRP of a car with acceleration of 20 units?  \n",
    "A. 55,000  \n",
    "B. 65,000  \n",
    "C. 80,000  \n",
    "D. 100,000  "
   ]
  },
  {
   "cell_type": "markdown",
   "metadata": {},
   "source": [
    "The Central Limit Theorem\n",
    "\n",
    "> The distribution of sums (and averages) of large random samples (w/ replacement) are roughly normal, regardless of the distribution of the population from which the sample was drawn"
   ]
  },
  {
   "cell_type": "code",
   "execution_count": 113,
   "metadata": {
    "scrolled": false
   },
   "outputs": [
    {
     "data": {
      "text/html": [
       "<table border=\"1\" class=\"dataframe\">\n",
       "    <thead>\n",
       "        <tr>\n",
       "            <th>business_name</th> <th>inspection_date</th> <th>inspection_score</th> <th>risk_category</th> <th>Neighborhoods</th> <th>Zip Codes</th>\n",
       "        </tr>\n",
       "    </thead>\n",
       "    <tbody>\n",
       "        <tr>\n",
       "            <td>Le Marais Bakery Castro         </td> <td>2018-08-06T00:00:00.000</td> <td>90              </td> <td>Moderate Risk</td> <td>nan          </td> <td>nan      </td>\n",
       "        </tr>\n",
       "        <tr>\n",
       "            <td>Pho Luen Fat Bakery & Restaurant</td> <td>2019-04-08T00:00:00.000</td> <td>76              </td> <td>Low Risk     </td> <td>nan          </td> <td>nan      </td>\n",
       "        </tr>\n",
       "        <tr>\n",
       "            <td>Brioche Bakery & Cafe           </td> <td>2019-01-31T00:00:00.000</td> <td>88              </td> <td>Low Risk     </td> <td>nan          </td> <td>nan      </td>\n",
       "        </tr>\n",
       "        <tr>\n",
       "            <td>Wing Lee Bakery                 </td> <td>2019-01-28T00:00:00.000</td> <td>86              </td> <td>Moderate Risk</td> <td>nan          </td> <td>nan      </td>\n",
       "        </tr>\n",
       "        <tr>\n",
       "            <td>Pho Luen Fat Bakery & Restaurant</td> <td>2019-04-08T00:00:00.000</td> <td>76              </td> <td>Moderate Risk</td> <td>nan          </td> <td>nan      </td>\n",
       "        </tr>\n",
       "        <tr>\n",
       "            <td>L'acajou Bakery and Cafe        </td> <td>2019-01-04T00:00:00.000</td> <td>79              </td> <td>Low Risk     </td> <td>nan          </td> <td>nan      </td>\n",
       "        </tr>\n",
       "        <tr>\n",
       "            <td>Le Marais Bakery Castro         </td> <td>2018-08-06T00:00:00.000</td> <td>90              </td> <td>Low Risk     </td> <td>nan          </td> <td>nan      </td>\n",
       "        </tr>\n",
       "        <tr>\n",
       "            <td>Le Marais Bakery, LLC           </td> <td>2018-12-28T00:00:00.000</td> <td>88              </td> <td>Moderate Risk</td> <td>nan          </td> <td>nan      </td>\n",
       "        </tr>\n",
       "        <tr>\n",
       "            <td>Brioche Bakery & Cafe           </td> <td>2019-01-31T00:00:00.000</td> <td>88              </td> <td>Moderate Risk</td> <td>nan          </td> <td>nan      </td>\n",
       "        </tr>\n",
       "        <tr>\n",
       "            <td>Le Marais Bakery, LLC           </td> <td>2018-12-28T00:00:00.000</td> <td>88              </td> <td>Moderate Risk</td> <td>nan          </td> <td>nan      </td>\n",
       "        </tr>\n",
       "    </tbody>\n",
       "</table>\n",
       "<p>... (878 rows omitted)</p>"
      ],
      "text/plain": [
       "business_name                    | inspection_date         | inspection_score | risk_category | Neighborhoods | Zip Codes\n",
       "Le Marais Bakery Castro          | 2018-08-06T00:00:00.000 | 90               | Moderate Risk | nan           | nan\n",
       "Pho Luen Fat Bakery & Restaurant | 2019-04-08T00:00:00.000 | 76               | Low Risk      | nan           | nan\n",
       "Brioche Bakery & Cafe            | 2019-01-31T00:00:00.000 | 88               | Low Risk      | nan           | nan\n",
       "Wing Lee Bakery                  | 2019-01-28T00:00:00.000 | 86               | Moderate Risk | nan           | nan\n",
       "Pho Luen Fat Bakery & Restaurant | 2019-04-08T00:00:00.000 | 76               | Moderate Risk | nan           | nan\n",
       "L'acajou Bakery and Cafe         | 2019-01-04T00:00:00.000 | 79               | Low Risk      | nan           | nan\n",
       "Le Marais Bakery Castro          | 2018-08-06T00:00:00.000 | 90               | Low Risk      | nan           | nan\n",
       "Le Marais Bakery, LLC            | 2018-12-28T00:00:00.000 | 88               | Moderate Risk | nan           | nan\n",
       "Brioche Bakery & Cafe            | 2019-01-31T00:00:00.000 | 88               | Moderate Risk | nan           | nan\n",
       "Le Marais Bakery, LLC            | 2018-12-28T00:00:00.000 | 88               | Moderate Risk | nan           | nan\n",
       "... (878 rows omitted)"
      ]
     },
     "execution_count": 113,
     "metadata": {},
     "output_type": "execute_result"
    }
   ],
   "source": [
    "bakeries"
   ]
  },
  {
   "cell_type": "code",
   "execution_count": 114,
   "metadata": {
    "scrolled": true
   },
   "outputs": [
    {
     "data": {
      "text/html": [
       "<table border=\"1\" class=\"dataframe\">\n",
       "    <thead>\n",
       "        <tr>\n",
       "            <th>business_name</th> <th>inspection_date</th> <th>inspection_score</th> <th>risk_category</th> <th>Neighborhoods</th> <th>Zip Codes</th>\n",
       "        </tr>\n",
       "    </thead>\n",
       "    <tbody>\n",
       "        <tr>\n",
       "            <td>McGarden Bakery                   </td> <td>2016-08-19T00:00:00.000</td> <td>81              </td> <td>Low Risk     </td> <td>5            </td> <td>28861    </td>\n",
       "        </tr>\n",
       "        <tr>\n",
       "            <td>The Bagel Bakery Cafe             </td> <td>2017-03-06T00:00:00.000</td> <td>94              </td> <td>Low Risk     </td> <td>nan          </td> <td>nan      </td>\n",
       "        </tr>\n",
       "        <tr>\n",
       "            <td>La Oaxaquena Bakery and Restaurant</td> <td>2017-06-30T00:00:00.000</td> <td>67              </td> <td>Low Risk     </td> <td>19           </td> <td>28859    </td>\n",
       "        </tr>\n",
       "        <tr>\n",
       "            <td>Focaccia Market Bakery            </td> <td>2017-06-29T00:00:00.000</td> <td>78              </td> <td>Moderate Risk</td> <td>nan          </td> <td>nan      </td>\n",
       "        </tr>\n",
       "        <tr>\n",
       "            <td>Royal Market & Bakery             </td> <td>2018-07-05T00:00:00.000</td> <td>94              </td> <td>Moderate Risk</td> <td>26           </td> <td>55       </td>\n",
       "        </tr>\n",
       "        <tr>\n",
       "            <td>Yummy Bakery & Restaurant         </td> <td>2018-05-15T00:00:00.000</td> <td>92              </td> <td>Low Risk     </td> <td>4            </td> <td>28857    </td>\n",
       "        </tr>\n",
       "        <tr>\n",
       "            <td>Focaccia Market Bakery            </td> <td>2017-11-15T00:00:00.000</td> <td>83              </td> <td>Low Risk     </td> <td>6            </td> <td>28860    </td>\n",
       "        </tr>\n",
       "        <tr>\n",
       "            <td>Hing Wang Bakery                  </td> <td>2019-04-08T00:00:00.000</td> <td>83              </td> <td>Low Risk     </td> <td>12           </td> <td>56       </td>\n",
       "        </tr>\n",
       "        <tr>\n",
       "            <td>Napoleon Super Bakery Corp        </td> <td>2016-12-12T00:00:00.000</td> <td>83              </td> <td>Moderate Risk</td> <td>4            </td> <td>28857    </td>\n",
       "        </tr>\n",
       "        <tr>\n",
       "            <td>Liguria Bakery                    </td> <td>2018-06-22T00:00:00.000</td> <td>83              </td> <td>Low Risk     </td> <td>23           </td> <td>308      </td>\n",
       "        </tr>\n",
       "    </tbody>\n",
       "</table>\n",
       "<p>... (190 rows omitted)</p>"
      ],
      "text/plain": [
       "business_name                      | inspection_date         | inspection_score | risk_category | Neighborhoods | Zip Codes\n",
       "McGarden Bakery                    | 2016-08-19T00:00:00.000 | 81               | Low Risk      | 5             | 28861\n",
       "The Bagel Bakery Cafe              | 2017-03-06T00:00:00.000 | 94               | Low Risk      | nan           | nan\n",
       "La Oaxaquena Bakery and Restaurant | 2017-06-30T00:00:00.000 | 67               | Low Risk      | 19            | 28859\n",
       "Focaccia Market Bakery             | 2017-06-29T00:00:00.000 | 78               | Moderate Risk | nan           | nan\n",
       "Royal Market & Bakery              | 2018-07-05T00:00:00.000 | 94               | Moderate Risk | 26            | 55\n",
       "Yummy Bakery & Restaurant          | 2018-05-15T00:00:00.000 | 92               | Low Risk      | 4             | 28857\n",
       "Focaccia Market Bakery             | 2017-11-15T00:00:00.000 | 83               | Low Risk      | 6             | 28860\n",
       "Hing Wang Bakery                   | 2019-04-08T00:00:00.000 | 83               | Low Risk      | 12            | 56\n",
       "Napoleon Super Bakery Corp         | 2016-12-12T00:00:00.000 | 83               | Moderate Risk | 4             | 28857\n",
       "Liguria Bakery                     | 2018-06-22T00:00:00.000 | 83               | Low Risk      | 23            | 308\n",
       "... (190 rows omitted)"
      ]
     },
     "execution_count": 114,
     "metadata": {},
     "output_type": "execute_result"
    }
   ],
   "source": [
    "bakeries.sample(200)"
   ]
  },
  {
   "cell_type": "code",
   "execution_count": 115,
   "metadata": {},
   "outputs": [
    {
     "data": {
      "text/plain": [
       "84.46"
      ]
     },
     "execution_count": 115,
     "metadata": {},
     "output_type": "execute_result"
    }
   ],
   "source": [
    "bakeries.sample(200).column('inspection_score').mean()"
   ]
  },
  {
   "cell_type": "code",
   "execution_count": 117,
   "metadata": {},
   "outputs": [],
   "source": [
    "sample_means = make_array()\n",
    "\n",
    "for i in np.arange(10000):\n",
    "    sample_mean = bakeries.sample(200).column('inspection_score').mean()\n",
    "    sample_means = np.append(sample_means, sample_mean)"
   ]
  },
  {
   "cell_type": "markdown",
   "metadata": {},
   "source": [
    "Distribution of the Sample Mean"
   ]
  },
  {
   "cell_type": "code",
   "execution_count": 118,
   "metadata": {
    "scrolled": true
   },
   "outputs": [
    {
     "data": {
      "image/png": "[encoded data removed]",
      "text/plain": [
       "<Figure size 432x288 with 1 Axes>"
      ]
     },
     "metadata": {},
     "output_type": "display_data"
    }
   ],
   "source": [
    "Table().with_column('Sample Mean', sample_means).hist()"
   ]
  },
  {
   "cell_type": "code",
   "execution_count": 122,
   "metadata": {},
   "outputs": [
    {
     "data": {
      "text/plain": [
       "(83.6869425, 0.5662930462170183)"
      ]
     },
     "execution_count": 122,
     "metadata": {},
     "output_type": "execute_result"
    }
   ],
   "source": [
    "np.mean(sample_means), np.std(sample_means)"
   ]
  },
  {
   "cell_type": "markdown",
   "metadata": {},
   "source": [
    "Sample: A random 200 bakeries"
   ]
  },
  {
   "cell_type": "code",
   "execution_count": 123,
   "metadata": {
    "scrolled": false
   },
   "outputs": [
    {
     "data": {
      "image/png": "[encoded data removed]",
      "text/plain": [
       "<Figure size 432x288 with 1 Axes>"
      ]
     },
     "metadata": {},
     "output_type": "display_data"
    }
   ],
   "source": [
    "one_sample = bakeries.sample(200)\n",
    "one_sample.hist('inspection_score')"
   ]
  },
  {
   "cell_type": "code",
   "execution_count": 124,
   "metadata": {},
   "outputs": [
    {
     "data": {
      "text/plain": [
       "(84.15, 8.213860237427953)"
      ]
     },
     "execution_count": 124,
     "metadata": {},
     "output_type": "execute_result"
    }
   ],
   "source": [
    "np.mean(one_sample.column('inspection_score')), np.std(one_sample.column('inspection_score'))"
   ]
  },
  {
   "cell_type": "markdown",
   "metadata": {},
   "source": [
    "Population: All bakeries in San Francisco with an inspection score"
   ]
  },
  {
   "cell_type": "code",
   "execution_count": 120,
   "metadata": {
    "scrolled": true
   },
   "outputs": [
    {
     "data": {
      "image/png": "[encoded data removed]",
      "text/plain": [
       "<Figure size 432x288 with 1 Axes>"
      ]
     },
     "metadata": {},
     "output_type": "display_data"
    }
   ],
   "source": [
    "bakeries.hist('inspection_score')"
   ]
  },
  {
   "cell_type": "code",
   "execution_count": 125,
   "metadata": {
    "scrolled": true
   },
   "outputs": [
    {
     "data": {
      "text/plain": [
       "(83.68355855855856, 7.998457055244399)"
      ]
     },
     "execution_count": 125,
     "metadata": {},
     "output_type": "execute_result"
    }
   ],
   "source": [
    "np.mean(bakeries.column('inspection_score')), np.std(bakeries.column('inspection_score'))"
   ]
  },
  {
   "cell_type": "markdown",
   "metadata": {},
   "source": [
    "According to the Central Limit Theorem, the SD of the distribution of the sample mean"
   ]
  },
  {
   "cell_type": "code",
   "execution_count": 126,
   "metadata": {},
   "outputs": [
    {
     "data": {
      "text/plain": [
       "0.5655763222792699"
      ]
     },
     "execution_count": 126,
     "metadata": {},
     "output_type": "execute_result"
    }
   ],
   "source": [
    "np.std(bakeries.column('inspection_score'))/np.sqrt(200)"
   ]
  },
  {
   "cell_type": "code",
   "execution_count": 127,
   "metadata": {},
   "outputs": [
    {
     "data": {
      "text/plain": [
       "0.5662930462170183"
      ]
     },
     "execution_count": 127,
     "metadata": {},
     "output_type": "execute_result"
    }
   ],
   "source": [
    "np.std(sample_means)"
   ]
  },
  {
   "cell_type": "markdown",
   "metadata": {},
   "source": [
    "Probability Distribution vs. Empirical Distribution of a Statistic"
   ]
  },
  {
   "cell_type": "code",
   "execution_count": 130,
   "metadata": {},
   "outputs": [
    {
     "data": {
      "text/plain": [
       "array(['T', 'T', 'H', 'H', 'T', 'H', 'T', 'T', 'H', 'H', 'T', 'T', 'T',\n",
       "       'H', 'H', 'H', 'H', 'T', 'H', 'T', 'T', 'T', 'H', 'T', 'H', 'T',\n",
       "       'T', 'H', 'H', 'H', 'T', 'H', 'H', 'T', 'H', 'T', 'H', 'H', 'H',\n",
       "       'T', 'H', 'T', 'H', 'H', 'H', 'H', 'T', 'H', 'T', 'T', 'T', 'H',\n",
       "       'H', 'T', 'H', 'H', 'H', 'H', 'H', 'T', 'H', 'H', 'T', 'T', 'T',\n",
       "       'T', 'H', 'T', 'H', 'H', 'H', 'H', 'T', 'T', 'T', 'T', 'T', 'H',\n",
       "       'T', 'T', 'T', 'H', 'T', 'T', 'H', 'H', 'H', 'H', 'H', 'H', 'H',\n",
       "       'H', 'T', 'H', 'T', 'T', 'H', 'H', 'H', 'T'], dtype='<U1')"
      ]
     },
     "execution_count": 130,
     "metadata": {},
     "output_type": "execute_result"
    }
   ],
   "source": [
    "np.random.choice(make_array('H', 'T'), 100)"
   ]
  },
  {
   "cell_type": "code",
   "execution_count": 134,
   "metadata": {},
   "outputs": [
    {
     "data": {
      "text/html": [
       "<table border=\"1\" class=\"dataframe\">\n",
       "    <thead>\n",
       "        <tr>\n",
       "            <th>outcome</th>\n",
       "        </tr>\n",
       "    </thead>\n",
       "    <tbody>\n",
       "        <tr>\n",
       "            <td>T      </td>\n",
       "        </tr>\n",
       "        <tr>\n",
       "            <td>H      </td>\n",
       "        </tr>\n",
       "        <tr>\n",
       "            <td>T      </td>\n",
       "        </tr>\n",
       "        <tr>\n",
       "            <td>H      </td>\n",
       "        </tr>\n",
       "        <tr>\n",
       "            <td>H      </td>\n",
       "        </tr>\n",
       "        <tr>\n",
       "            <td>H      </td>\n",
       "        </tr>\n",
       "        <tr>\n",
       "            <td>T      </td>\n",
       "        </tr>\n",
       "        <tr>\n",
       "            <td>T      </td>\n",
       "        </tr>\n",
       "        <tr>\n",
       "            <td>T      </td>\n",
       "        </tr>\n",
       "        <tr>\n",
       "            <td>H      </td>\n",
       "        </tr>\n",
       "    </tbody>\n",
       "</table>\n",
       "<p>... (90 rows omitted)</p>"
      ],
      "text/plain": [
       "outcome\n",
       "T\n",
       "H\n",
       "T\n",
       "H\n",
       "H\n",
       "H\n",
       "T\n",
       "T\n",
       "T\n",
       "H\n",
       "... (90 rows omitted)"
      ]
     },
     "execution_count": 134,
     "metadata": {},
     "output_type": "execute_result"
    }
   ],
   "source": [
    "flips = Table().with_column('outcome', np.random.choice(make_array('H', 'T'), 100))\n",
    "flips"
   ]
  },
  {
   "cell_type": "markdown",
   "metadata": {},
   "source": [
    "Statistic: proportion of heads"
   ]
  },
  {
   "cell_type": "code",
   "execution_count": 135,
   "metadata": {},
   "outputs": [
    {
     "data": {
      "text/html": [
       "<table border=\"1\" class=\"dataframe\">\n",
       "    <thead>\n",
       "        <tr>\n",
       "            <th>outcome</th> <th>count</th>\n",
       "        </tr>\n",
       "    </thead>\n",
       "    <tbody>\n",
       "        <tr>\n",
       "            <td>H      </td> <td>46   </td>\n",
       "        </tr>\n",
       "        <tr>\n",
       "            <td>T      </td> <td>54   </td>\n",
       "        </tr>\n",
       "    </tbody>\n",
       "</table>"
      ],
      "text/plain": [
       "outcome | count\n",
       "H       | 46\n",
       "T       | 54"
      ]
     },
     "execution_count": 135,
     "metadata": {},
     "output_type": "execute_result"
    }
   ],
   "source": [
    "flips.group('outcome')"
   ]
  },
  {
   "cell_type": "markdown",
   "metadata": {},
   "source": []
  },
  {
   "cell_type": "code",
   "execution_count": null,
   "metadata": {},
   "outputs": [],
   "source": []
  }
 ],
 "metadata": {
  "celltoolbar": "Slideshow",
  "kernelspec": {
   "display_name": "Python 3",
   "language": "python",
   "name": "python3"
  },
  "language_info": {
   "codemirror_mode": {
    "name": "ipython",
    "version": 3
   },
   "file_extension": ".py",
   "mimetype": "text/x-python",
   "name": "python",
   "nbconvert_exporter": "python",
   "pygments_lexer": "ipython3",
   "version": "3.6.8"
  },
  "livereveal": {
   "scroll": true,
   "transition": "none"
  }
 },
 "nbformat": 4,
 "nbformat_minor": 2
}
